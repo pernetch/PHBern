{
 "cells": [
  {
   "cell_type": "markdown",
   "metadata": {
    "slideshow": {
     "slide_type": "slide"
    }
   },
   "source": [
    "# Les branchements conditionnels\n",
    "## Partie 2. Mise en pratique"
   ]
  },
  {
   "cell_type": "markdown",
   "metadata": {
    "slideshow": {
     "slide_type": "slide"
    }
   },
   "source": [
    "## A. Notions de base\n",
    "Nous avons pu jusqu'ici créer le type de programme suivant : \n",
    "1. demander son nom à un utilisateur\n",
    "2. afficher son nom dans la console.\n",
    "\n",
    "Le voici concrètement : "
   ]
  },
  {
   "cell_type": "code",
   "execution_count": 15,
   "metadata": {
    "slideshow": {
     "slide_type": "subslide"
    }
   },
   "outputs": [
    {
     "name": "stdout",
     "output_type": "stream",
     "text": [
      "Quel est votre prénom ? Christian\n",
      "Bonjour Christian\n"
     ]
    }
   ],
   "source": [
    "prenom = input(\"Quel est votre prénom ? \")\n",
    "print(\"Bonjour\", prenom)"
   ]
  },
  {
   "cell_type": "markdown",
   "metadata": {
    "slideshow": {
     "slide_type": "slide"
    }
   },
   "source": [
    "Que produit selon vous l'exemple suivant (à discuter avec votre voisin) : \n",
    "\n",
    "```python\n",
    "prenom = input(\"Quel est votre prénom ? \")\n",
    "if prenom == \"Jean\":\n",
    "    print(\"Bonjour\", prenom)\n",
    "print(\"suite du programme ?\")\n",
    "```\n",
    "- que se passe-t-il lorsque l'utilisateur saisi le nom Jean ?\n",
    "- que se passe-t-il dans le cas contraire ? \n",
    "- que pouvez-vous dire de la dernière ligne ? Le programme se continue-t-il ?\n",
    "- dessinez l'ordinogramme correspondant à ce programme.\n",
    "\n",
    "Vous pouvez le tester par vous même en recopiant l'exemple dans la cellule ci-dessous : "
   ]
  },
  {
   "cell_type": "code",
   "execution_count": null,
   "metadata": {
    "slideshow": {
     "slide_type": "subslide"
    }
   },
   "outputs": [],
   "source": []
  },
  {
   "cell_type": "markdown",
   "metadata": {
    "slideshow": {
     "slide_type": "slide"
    }
   },
   "source": [
    "## B. Syntaxe de la condition if\n",
    "\n",
    "Une condition...\n",
    "1. commence par le mot clé ```if```\n",
    "1. effectue un **test logique** (dans notre exemple : ```prenom == \"Jean\"```\n",
    "1. la première ligne du test se termine par ```:```\n",
    "1. la deuxième ligne du test est en retrait; on appelle cela une **indentation**. Cette indentation du code est **obligatoire** et s'obtient à l'aide de la **touche tabulation** de votre clavier ou en saisissant **4 espaces**.  ![](https://raw.githubusercontent.com/pernetch/PHBern/main/tab.png)\n"
   ]
  },
  {
   "cell_type": "markdown",
   "metadata": {
    "slideshow": {
     "slide_type": "slide"
    }
   },
   "source": [
    "###  Exercice 1a\n",
    "- Réalisez un petit programme qui pose la question suivante à l'utilsateur : \"comment allez-vous\"\n",
    "- Si l'utilisateur répond \"bien\", afficher \"Cela me réjouit\"\n",
    "\n",
    "### Exercice 1b \n",
    "- Ajoutez un test à votre exercice pour répondre au cas suivant : si l'utilisateur répond \"mal\", afficher : \"Cela me fait de la peine\". "
   ]
  },
  {
   "cell_type": "code",
   "execution_count": 17,
   "metadata": {
    "slideshow": {
     "slide_type": "fragment"
    }
   },
   "outputs": [
    {
     "name": "stdout",
     "output_type": "stream",
     "text": [
      "Comment allez-vous ? bien\n",
      "Cela me réjouit.\n"
     ]
    }
   ],
   "source": [
    "#votre programme ici..."
   ]
  },
  {
   "cell_type": "markdown",
   "metadata": {
    "slideshow": {
     "slide_type": "slide"
    }
   },
   "source": [
    "### Exercice 2\n",
    "\n",
    "Veuillez modifier le programme ci-dessous en respectant les instructions suivantes : \n",
    "\n",
    "- On demande la couleur de dessin choisi (bleu, jaune, noir, rouge)\n",
    "- La tortue dessine le carré de la couleur choisie par l'utilisateur (blue, yellow, black, red)"
   ]
  },
  {
   "cell_type": "code",
   "execution_count": 16,
   "metadata": {
    "slideshow": {
     "slide_type": "subslide"
    }
   },
   "outputs": [
    {
     "data": {
      "application/vnd.jupyter.widget-view+json": {
       "model_id": "dd030bc8613a4be5b16153ac033c4bef",
       "version_major": 2,
       "version_minor": 0
      },
      "text/plain": [
       "Turtle()"
      ]
     },
     "metadata": {},
     "output_type": "display_data"
    },
    {
     "name": "stdout",
     "output_type": "stream",
     "text": [
      "Veuillez saisir la couleur de votre choix (bleu, jaune, noir, rouge)rouge\n"
     ]
    }
   ],
   "source": [
    "from mobilechelonian import Turtle\n",
    "t = Turtle()\n",
    "t.speed(10)\n",
    "\n",
    "\n",
    "def dessiner_carre():\n",
    "    for i in range(4):\n",
    "        t.forward(100)\n",
    "        t.right(90)\n",
    "\n",
    "#demander la couleur de dessin choisi\n",
    "\n",
    "\n",
    "#modifier la couleur du dessin en fonction du choix effectué\n",
    "\n",
    "\n",
    "\n",
    "\n",
    "\n",
    "\n",
    "\n",
    "\n",
    "#lancer la fonction de dessin: \n",
    "dessiner_carre()\n"
   ]
  },
  {
   "cell_type": "markdown",
   "metadata": {
    "slideshow": {
     "slide_type": "slide"
    }
   },
   "source": [
    "## C. Réaliser des tests\n",
    "\n",
    "Nous n'avons jusqu'à présent testé que l'égalité entre deux valeurs / deux expressions. \n",
    "\n",
    "D'autres opérations sont possibles. En voici la liste : \n",
    "\n",
    "| Opérateur | Définition | Exemple |\n",
    "| ----------| :--------- | :---------------\n",
    "| ==        | égal à                  | nom == \"Jean\" |\n",
    "| !=        | différent de            | nom != \"Jean\" |\n",
    "| >         | strictement supérieur à | x > 4 |\n",
    "| >=        | supérieur ou égal à     | x >= 4 |\n",
    "| <         | strictement inférieur à | y < 4 |\n",
    "| <=        | inférieur ou égal à     | y <= 5 |"
   ]
  },
  {
   "cell_type": "markdown",
   "metadata": {
    "slideshow": {
     "slide_type": "slide"
    }
   },
   "source": [
    "### Exemple \n",
    "\n",
    "- Affichez le texte \"Désolé, vous n'êtes pas promu(e)\" si la moyenne est strictement inférieure à 4.   \n",
    "- On peut modifier la moyenne pour constater qu'avec une moyenne supérieure ou égale à 4, rien ne s'affiche dans la console. \n",
    "- Complétez le code pour qu'une moyenne supérieur ou égale à 4 fasse afficher le message suivant : \"Vous remplissez une des conditions pour être promu(e)\". \n",
    "\n"
   ]
  },
  {
   "cell_type": "code",
   "execution_count": 18,
   "metadata": {},
   "outputs": [
    {
     "name": "stdout",
     "output_type": "stream",
     "text": [
      "Désolé vous n'êtes pas promu\n"
     ]
    }
   ],
   "source": [
    "moyenne = 3.5\n",
    "\n",
    "# Exercice à réaliser ici : \n",
    "\n",
    "\n",
    "\n"
   ]
  },
  {
   "cell_type": "markdown",
   "metadata": {
    "slideshow": {
     "slide_type": "slide"
    }
   },
   "source": [
    "### Exercice 3 \n",
    "\n",
    "Complétez le programme ci-dessous avec les instructions ```if``` appropriées. Si l’utilisateur saisit le texte “Lisa”, l’ordinateur doit afficher\n",
    "\n",
    "\"Bonjour Lisa!  \n",
    "Quel plaisir de vous revoir!\"\n",
    "\n",
    "Si, en revanche, l’utilisateur saisit un autre prénom, l’ordinateur répond par la sortie : \"Je ne vous connais pas!\" \n",
    "\n"
   ]
  },
  {
   "cell_type": "code",
   "execution_count": 21,
   "metadata": {
    "slideshow": {
     "slide_type": "subslide"
    }
   },
   "outputs": [
    {
     "name": "stdout",
     "output_type": "stream",
     "text": [
      "Quel est votre prénom ? Christian\n",
      "Je ne vous connais pas !\n"
     ]
    }
   ],
   "source": [
    "prenom = input(\"Quel est votre prénom ? \")\n",
    "\n",
    "# Exercice à réaliser ici : \n"
   ]
  },
  {
   "cell_type": "markdown",
   "metadata": {
    "slideshow": {
     "slide_type": "slide"
    }
   },
   "source": [
    "### Exercice 4\n",
    "\n",
    "- La tortue doit dessiner un polygone de n côtés (cela est demandé à l'utilisateur)\n",
    "- si le nombre de côtés est inférieur à 3, on ne dessine rien : on indique à l'utilisateur que cela n'est pas possible.\n",
    "- si le nombre de côtés supérieur ou égal à trois :\n",
    "    - on demande à l'utilisateur la longueur du périmètre; \n",
    "    - on lance la fonction ```dessiner``` avec en paramètres le nombre de côté ainsi que la longueur du périmètre.\n",
    "    \n",
    "Votre travail consiste à compléter la fonction dessiner_polygone.\n",
    "\n",
    "#### Rappel important\n",
    "- Lorsqu'on demande une information à un utilisateur via la commande ```input```, celle-ci est stockée sous forme de texte. \n",
    "- Pour indiquer que le résultat est numérique, il faut \"convertir\" la saisie en nombre à l'aide de la commande int().   \n",
    "  **Exemple** :    ```cote = int(input(\"nombre de côté\"))```\n",
    "\n"
   ]
  },
  {
   "cell_type": "code",
   "execution_count": 22,
   "metadata": {
    "slideshow": {
     "slide_type": "subslide"
    }
   },
   "outputs": [
    {
     "data": {
      "application/vnd.jupyter.widget-view+json": {
       "model_id": "df1b5d036e4d4224af06fb499a8cd0d3",
       "version_major": 2,
       "version_minor": 0
      },
      "text/plain": [
       "Turtle()"
      ]
     },
     "metadata": {},
     "output_type": "display_data"
    },
    {
     "name": "stdout",
     "output_type": "stream",
     "text": [
      "nombre de côtés7\n",
      "quel est le périmètre de votre figure500\n"
     ]
    }
   ],
   "source": [
    "from mobilechelonian import Turtle\n",
    "\n",
    "def dessiner_polygone() :\n",
    "    \n",
    "    \n",
    "def dessiner(nb_cote, longueur):\n",
    "    t = Turtle()\n",
    "    t.speed(10)\n",
    "    for i in range(nb_cote):\n",
    "        t.forward(longueur)\n",
    "        t.right(360 // nb_cote) \n",
    "        # t.right n'accepte que des nombres entiers l'opérateur // effectue une division entière.\n",
    "        \n",
    "dessiner_polygone()        "
   ]
  },
  {
   "cell_type": "markdown",
   "metadata": {
    "slideshow": {
     "slide_type": "slide"
    }
   },
   "source": [
    "## D. Si... alors... sinon\n",
    "\n",
    "Nous n'avons considéré jusqu'ici que des exercices dans lesquelles des test simples étaient effectués, avec la syntaxe suivante : \n",
    "\n",
    "```python\n",
    "  if test_logique : \n",
    "      instruction(s) à effectuer\n",
    "```\n",
    "\n",
    "Bien souvent, les tests à effectuer sont plus complexes que ceux que nous avons abordés jusqu'ici. \n",
    "\n",
    "A titre d'exemple, nous pourrions reformuler l'exercice 3 de la manière suivante. \n",
    "Si l'utilisateur saisit \"Lisa\" comme prénom afficher un message de bienvenue, sinon le message \"je ne vous connais pas\". \n",
    "\n",
    "Voici comment implémenter cet exemple simple. Remarquez l'utilisation du mot clé ```else```.  "
   ]
  },
  {
   "cell_type": "code",
   "execution_count": null,
   "metadata": {
    "slideshow": {
     "slide_type": "subslide"
    }
   },
   "outputs": [],
   "source": [
    "prenom = input(\"Quel est votre prénom ? \")\n",
    "\n",
    "if prenom ==\"Lisa\":\n",
    "    print(\"Bonjour Lisa !\")\n",
    "    print(\"Quel plaisir de vous revoir !\")\n",
    "else : \n",
    "    print(\"Je ne vous connais pas !\")"
   ]
  },
  {
   "cell_type": "markdown",
   "metadata": {
    "slideshow": {
     "slide_type": "subslide"
    }
   },
   "source": [
    "Voici l'ordinogramme de ce test : \n",
    "![](https://raw.githubusercontent.com/pernetch/PHBern/main/rappel_connu-Page-2.jpg)"
   ]
  },
  {
   "cell_type": "markdown",
   "metadata": {
    "slideshow": {
     "slide_type": "slide"
    }
   },
   "source": [
    "### Exercice 5\n",
    "\n",
    "En fonction de la moyenne saisie par l'utilisateur, indiquer que l'élève est non-promu si sa moyenne est inférieure à 4 et qu'il remplit une condition de promotion sinon. \n",
    "\n",
    "#### Rappel important (bis repetita placent)\n",
    "- Lorsqu'on demande une information à un utilisateur via la commande ```input```, celle-ci est stockée sous forme de texte. \n",
    "- Pour indiquer que le résultat est un nombre à virgule, il faut \"convertir\" la saisie en nombre à l'aide de la commande float().   \n",
    "  **Exemple** :    ```moyenne = float(input(\"Veuillez indiquer votre moyenne\"))```\n"
   ]
  },
  {
   "cell_type": "code",
   "execution_count": 1,
   "metadata": {
    "slideshow": {
     "slide_type": "subslide"
    }
   },
   "outputs": [],
   "source": [
    "# Exercice à réaliser ici..."
   ]
  },
  {
   "cell_type": "markdown",
   "metadata": {
    "slideshow": {
     "slide_type": "slide"
    }
   },
   "source": [
    "### Exercice 6\n",
    "Quel avantages l’utilisation du `else` apporte-t-elle ?\n",
    "\n",
    "Pour le découvrir : \n",
    "1. Dessinez les ordinogrammes se rapportant aux deux versions du même code ci-dessous et comparez-les. \n",
    "1. Déterminez ensuite lequel des deux est le meilleur.\n",
    "\n",
    "**Code A**\n",
    "```python\n",
    "if x > 0:\n",
    "    print (x, \"est positif\")\n",
    "if x <= 0:\n",
    "    print (x, \"n'est pas positif\")\n",
    "```\n",
    "**Code B**\n",
    "```python\n",
    "if x > 0:\n",
    "    print (x, \"est positif\")\n",
    "else:\n",
    "    print (x, \"n'est pas positif\")\n",
    "```"
   ]
  },
  {
   "cell_type": "markdown",
   "metadata": {
    "slideshow": {
     "slide_type": "subslide"
    }
   },
   "source": [
    "#### Solution\n",
    "\n",
    "à vous de jouer..."
   ]
  },
  {
   "cell_type": "markdown",
   "metadata": {
    "slideshow": {
     "slide_type": "slide"
    }
   },
   "source": [
    "### Exercice 7\n",
    "\n",
    "Développez une fonction cercle qui permette de dessiner un cercle d'un périmètre donné. \n",
    "- si le périmètre est supérieur à 720, on dessinera le cercle comme un polygone à 36 côtés. \n",
    "- si le périmètre est inférieur ou égal à 720, on dessinera le cercle comme un polygone à 20 côtés. \n",
    "\n",
    "Pour cet exercice, l'utilisation du mot-clé \n",
    "```python \n",
    "else\n",
    "``` \n",
    "est obligatoire\n"
   ]
  },
  {
   "cell_type": "code",
   "execution_count": 45,
   "metadata": {
    "slideshow": {
     "slide_type": "subslide"
    }
   },
   "outputs": [
    {
     "data": {
      "application/vnd.jupyter.widget-view+json": {
       "model_id": "352aaf4de14b4e0abcf12938e5598f31",
       "version_major": 2,
       "version_minor": 0
      },
      "text/plain": [
       "Turtle()"
      ]
     },
     "metadata": {},
     "output_type": "display_data"
    }
   ],
   "source": [
    "from mobilechelonian import Turtle\n",
    "t = Turtle()\n",
    "t.speed(5)\n",
    "t.penup()\n",
    "t.left(90)\n",
    "t.forward(110)\n",
    "t.right(90)\n",
    "t.pendown()\n",
    "# les premières instructions placent la tortue. \n",
    "\n",
    "def dessiner_cercle(perimetre): \n",
    "    #fonction à compléter ici\n",
    "        \n",
    "dessiner_cercle(700)"
   ]
  },
  {
   "cell_type": "markdown",
   "metadata": {
    "slideshow": {
     "slide_type": "slide"
    }
   },
   "source": [
    "### Exercice 8\n",
    "Expliquez pourquoi le troisième programme n'est pas équivalent aux deux premiers.   \n",
    "Remarquez comment les instructions ```if``` sont imbriquées"
   ]
  },
  {
   "cell_type": "code",
   "execution_count": 1,
   "metadata": {
    "slideshow": {
     "slide_type": "subslide"
    }
   },
   "outputs": [
    {
     "name": "stdout",
     "output_type": "stream",
     "text": [
      "Veuillez indiquer votre prénom : A\n",
      "Bonjour, noble inconnu.\n"
     ]
    }
   ],
   "source": [
    "#Premier programme\n",
    "prenom = input(\"Veuillez indiquer votre prénom : \")\n",
    "if prenom == \"Anne\":\n",
    "    print(\"Bonjour Anne\")\n",
    "if prenom == \"Jean\": \n",
    "    print(\"Salut Jean\")\n",
    "if prenom != \"Anne\": \n",
    "    if prenom != \"Jean\":\n",
    "        print(\"Bonjour, noble inconnu.\")"
   ]
  },
  {
   "cell_type": "code",
   "execution_count": 2,
   "metadata": {
    "slideshow": {
     "slide_type": "subslide"
    }
   },
   "outputs": [
    {
     "name": "stdout",
     "output_type": "stream",
     "text": [
      "Veuillez indiquer votre prénom : A\n",
      "Bonjour, noble inconnu.\n"
     ]
    }
   ],
   "source": [
    "#Deuxième programme\n",
    "prenom = input(\"Veuillez indiquer votre prénom : \")\n",
    "if prenom == \"Anne\":\n",
    "    print(\"Bonjour Anne\")\n",
    "else:\n",
    "    if prenom == \"Jean\": \n",
    "        print(\"Salut Jean\")\n",
    "    else:\n",
    "        print(\"Bonjour, noble inconnu.\") "
   ]
  },
  {
   "cell_type": "code",
   "execution_count": 3,
   "metadata": {
    "slideshow": {
     "slide_type": "subslide"
    }
   },
   "outputs": [
    {
     "name": "stdout",
     "output_type": "stream",
     "text": [
      "Veuillez indiquer votre prénom : A\n",
      "Bonjour, noble inconnu.\n"
     ]
    }
   ],
   "source": [
    "#Troisième programme\n",
    "prenom = input(\"Veuillez indiquer votre prénom : \")\n",
    "if prenom == \"Anne\":\n",
    "    print(\"Bonjour Anne\")\n",
    "if prenom == \"Jean\": \n",
    "    print(\"Salut Jean\")\n",
    "else:\n",
    "    print(\"Bonjour, noble inconnu.\")"
   ]
  },
  {
   "cell_type": "markdown",
   "metadata": {
    "slideshow": {
     "slide_type": "slide"
    }
   },
   "source": [
    "### Exercice 9 \n",
    "\n",
    "- Complétez le programme ci-dessous de manière à afficher la phrase correcte. \n",
    "- **Indication** : pour tester si un nombre est pair, on teste le reste de la division, à l'aide de l'opérateur modulo %      \n",
    "\n",
    "Exemples : \n",
    "- 9 % 3 = 0 car 9 / 3 = 0 **reste 0**. \n",
    "- MAIS  9 % 4 = 1 car  9 / 4 = 2 **reste 1** \n"
   ]
  },
  {
   "cell_type": "code",
   "execution_count": 4,
   "metadata": {},
   "outputs": [
    {
     "data": {
      "text/plain": [
       "0"
      ]
     },
     "execution_count": 4,
     "metadata": {},
     "output_type": "execute_result"
    }
   ],
   "source": [
    "#Premier exemple de modulo\n",
    "9 % 3"
   ]
  },
  {
   "cell_type": "code",
   "execution_count": 6,
   "metadata": {},
   "outputs": [
    {
     "data": {
      "text/plain": [
       "1"
      ]
     },
     "execution_count": 6,
     "metadata": {},
     "output_type": "execute_result"
    }
   ],
   "source": [
    "#Deuxième exemple de modulo\n",
    "9 % 4"
   ]
  },
  {
   "cell_type": "code",
   "execution_count": 27,
   "metadata": {
    "slideshow": {
     "slide_type": "subslide"
    }
   },
   "outputs": [
    {
     "name": "stdout",
     "output_type": "stream",
     "text": [
      "5 est un nombre pair positif\n",
      "5  est un nombre pair négatif\n",
      "5  est un nombre impair positif\n",
      "5  est un nombre impair négatif\n"
     ]
    },
    {
     "data": {
      "text/plain": [
       "1"
      ]
     },
     "execution_count": 27,
     "metadata": {},
     "output_type": "execute_result"
    }
   ],
   "source": [
    "nbre = 5\n",
    "\n",
    "print(nbre, \"est un nombre pair positif\")\n",
    "print(nbre, \" est un nombre pair négatif\")\n",
    "print(nbre, \" est un nombre impair positif\")\n",
    "print(nbre, \" est un nombre impair négatif\")"
   ]
  },
  {
   "cell_type": "markdown",
   "metadata": {
    "slideshow": {
     "slide_type": "slide"
    }
   },
   "source": [
    "## E. Si ... sinon si\n",
    "\n",
    "Nous souhaitons développer notre application de dessin avec la tortue de la manière suivante : \n",
    "\n",
    "1. L'utilisateur indique la longueur de la figure à dessiner (ici, un rectangle)\n",
    "1. L'utilisateur indique un code pour la couleur du dessin : \n",
    "    - 1 = noir\n",
    "    - 2 = jaune\n",
    "    - 3 = rouge\n",
    "    - 4 = bleu\n",
    "    \n",
    "En fait, il s'agit d'une autre manière de résoudre l'exercice 2. On remarquera cependant l'utilisation du mot-clé ```elif ``` dans le programme ci-dessous."
   ]
  },
  {
   "cell_type": "code",
   "execution_count": 3,
   "metadata": {
    "slideshow": {
     "slide_type": "subslide"
    }
   },
   "outputs": [
    {
     "name": "stdout",
     "output_type": "stream",
     "text": [
      "Indiquez la longueur du côté: 45\n",
      "Veuillez saisir le code couleur de votre choix (1 = noir , 2 = jaune, 3 = rouge, 4 = bleu): 8\n"
     ]
    },
    {
     "data": {
      "application/vnd.jupyter.widget-view+json": {
       "model_id": "d6df72d4478d47b594fb8dd795ec4a67",
       "version_major": 2,
       "version_minor": 0
      },
      "text/plain": [
       "Turtle()"
      ]
     },
     "metadata": {},
     "output_type": "display_data"
    },
    {
     "name": "stdout",
     "output_type": "stream",
     "text": [
      "code couleur inconnu; utilisation du noir\n"
     ]
    }
   ],
   "source": [
    "from mobilechelonian import Turtle\n",
    "\n",
    "def dessiner_rectangle(longueur, code_couleur):\n",
    "    t = Turtle()\n",
    "    t.speed(10)\n",
    "    \n",
    "    if code_couleur == 1:\n",
    "        t.pencolor(\"black\")\n",
    "    elif code_couleur == 2: \n",
    "        t.pencolor(\"yellow\")\n",
    "    elif code_couleur == 3: \n",
    "        t.pencolor(\"red\")\n",
    "    elif code_couleur == 4: \n",
    "        t.pencolor(\"blue\")    \n",
    "    else:\n",
    "        print(\"code couleur inconnu; utilisation du noir\")\n",
    "        t.pencolor(\"black\")\n",
    "        \n",
    "    for i in range(4):\n",
    "        t.forward(100)\n",
    "        t.right(90)\n",
    "        \n",
    "#notez à deux reprises l'utilisation du int() pour convertir la saisie en donnée numérique    \n",
    "longueur = int(input(\"Indiquez la longueur du côté: \"))    \n",
    "code_couleur=int(input(\"Veuillez saisir le code couleur de votre choix \\\n",
    "(1 = noir , 2 = jaune, 3 = rouge, 4 = bleu): \"))\n",
    "#pour plus de lisibilité, le code a été \"coupé\" à l'aide de la commande \\\n",
    "dessiner_rectangle(longueur, code_couleur)"
   ]
  },
  {
   "cell_type": "markdown",
   "metadata": {
    "slideshow": {
     "slide_type": "slide"
    }
   },
   "source": [
    "### Exercice 10\n",
    "\n",
    "Éxécutez le programme ci-dessous à la main et écrivez ce qu’il affiche dans le champ de saisie ci-dessous. Répondez sans exécuter le code avec l’ordinateur mais en vous basant uniquement sur votre compréhension. Vérifiez ensuite votre réponse une fois que vous en exécutant le programme sur l’ordinateur et en comprenant bien le fonctionnement des commandes ```mystery1``` et ```mystery2```\n",
    "\n",
    "```python\n",
    "def mystery1(nombre):\n",
    "    if nombre <= 4:\n",
    "        print(\"A\")\n",
    "    if nombre >= 2:\n",
    "        print(\"B\")\n",
    "    else:\n",
    "        print(\"D\")\n",
    "\n",
    "def mystery2(nombre):\n",
    "    if nombre <= 4:\n",
    "        print(\"A\")\n",
    "    elif nombre >= 2:\n",
    "        print(\"B\")\n",
    "    else:\n",
    "        print(\"D\")\n",
    "\n",
    "mystery1(1)\n",
    "mystery2(1)\n",
    "\n",
    "mystery1(3)\n",
    "mystery2(3)\n",
    "\n",
    "mystery1(5)\n",
    "mystery2(5)\n",
    "\n",
    "```"
   ]
  },
  {
   "cell_type": "code",
   "execution_count": 6,
   "metadata": {
    "slideshow": {
     "slide_type": "subslide"
    }
   },
   "outputs": [],
   "source": [
    "#Vous pouvez tester les programmes ici au besoin..."
   ]
  },
  {
   "cell_type": "markdown",
   "metadata": {
    "slideshow": {
     "slide_type": "slide"
    }
   },
   "source": [
    "### Exercice 11\n",
    "\n",
    "- Calculez dans un premier temps l'IMC (indice de masse corporelle) d'une personne à l'aide de la formule suivante : \n",
    "   - imc = poids / (taille * taille)\n",
    "- En fonction du résultat obtenu, indiquez (commande ```print```) l'interprétation(selon l'OMS) à donner à cet IMC. \n",
    "\n",
    "|IMC | Interprétation (selon OMS)|\n",
    "|:---|:--------------------------|\n",
    "|18.5| Maigreur                  |\n",
    "|25  | Corpulence normale        |\n",
    "|30  | Surpoids                  |\n",
    "|35  | Obésité modérée           |\n",
    "|40  | Obésité sévère            |\n",
    "\n",
    "**Nota** : le tableau est à lire de la manière suivante : entre 18.5 et 25, l'OMS considère que la corpulence est normale. \n",
    "\n",
    "**Nota 2** : la valeur obtenue est indicative et est sujette à interprétation de la part d'un spécialiste."
   ]
  },
  {
   "cell_type": "code",
   "execution_count": 5,
   "metadata": {
    "slideshow": {
     "slide_type": "subslide"
    }
   },
   "outputs": [
    {
     "name": "stdout",
     "output_type": "stream",
     "text": [
      "26.82742078020452\n",
      "surpoids\n"
     ]
    }
   ],
   "source": [
    "poids = 85\n",
    "taille = 1.78\n",
    "\n"
   ]
  },
  {
   "cell_type": "markdown",
   "metadata": {
    "slideshow": {
     "slide_type": "slide"
    }
   },
   "source": [
    "## F. Opérateurs logiques\n",
    "\n",
    "### I. La négation\n",
    "\n",
    "Jusqu'à présent, nous avons souhaité que le programme exécute un bloc quand une condition est réunie. Parfois, c'est le contraire qui est souhaité: le programme doit exéctuer une condition quand elle n'est pas vraie. \n",
    "\n",
    "**Exemples**\n",
    "\n",
    "|Test | Négation du test |\n",
    "|:-----|:---------------- | \n",
    "|note > 4 | note <= 4    |\n",
    "|age == 18 | age != 18   |\n",
    "| age == 18 | not age == 18 |\n"
   ]
  },
  {
   "cell_type": "markdown",
   "metadata": {
    "slideshow": {
     "slide_type": "slide"
    }
   },
   "source": [
    "### Questions d'entraînement \n",
    "\n",
    "1. x < 2 est-il le contraire de x > 2 ?\n",
    "1. Quel est le contraire de : x est un nombre négatif.\n",
    "1. Quel est le contraire de : il y a au moins 15 personnes présentes.\n",
    "1. Ce programme est faux. \n",
    "\n",
    "### Entraînement (suite)\n",
    "\n",
    "Ecrivez la négation des conditions suivantes :\n",
    "\n",
    "```python\n",
    "if >= 4:\n",
    "if x < y:\n",
    "if note == 6: # (deux solutions)\n",
    "if couleur == \"rouge\":\n",
    "```"
   ]
  },
  {
   "cell_type": "markdown",
   "metadata": {
    "slideshow": {
     "slide_type": "slide"
    }
   },
   "source": [
    "### Exercice 12\n",
    "\n",
    "Les trois fonctions ci-dessous ont-elles le même résultat ? \n",
    "\n",
    "```python\n",
    "def test1(x):\n",
    "    if x == 0:\n",
    "        print(\"x est nul\")\n",
    "    else:\n",
    "        print(\"x n'est pas nul\")\n",
    "def test2(x):\n",
    "    if x != 0:\n",
    "        print(\"x n'est pas nul\")\n",
    "    else:\n",
    "        print(\"x est nul\")\n",
    "def test3(x):\n",
    "    if not x == 0:\n",
    "        print(\"x n'est pas nul\")\n",
    "    else:\n",
    "        print(\"x est nul\")\n",
    "```"
   ]
  },
  {
   "cell_type": "code",
   "execution_count": 10,
   "metadata": {
    "slideshow": {
     "slide_type": "subslide"
    }
   },
   "outputs": [],
   "source": [
    "# N'hésitez pas à tester ici..."
   ]
  },
  {
   "cell_type": "markdown",
   "metadata": {
    "slideshow": {
     "slide_type": "slide"
    }
   },
   "source": [
    "### G. Lier des conditions avec or/and\n",
    "\n",
    "Avec les mots-clés ```or``` et ```and``` des conditions peuvent être liées. On peut de la sorte formuler des conditions plus complexes. \n",
    "\n",
    "Une table de vérité permet de comprendre le mécanisme avec deux conditions A et B données : \n",
    "\n",
    "|Condition A | Condition B | A or B | A and B |\n",
    "|:-----------|:------------|:------------|:------------|\n",
    "| True | True | True | True |\n",
    "| True | False | True | False |\n",
    "| False | True | True | False |\n",
    "| False | False | False | False |"
   ]
  },
  {
   "cell_type": "markdown",
   "metadata": {
    "slideshow": {
     "slide_type": "slide"
    }
   },
   "source": [
    "### Exercice 13\n",
    "\n",
    "1. L'ordinateur (via input) pose la question suivante à l'utilisateur : \"Nommez une planète du système solaire à moins de 120'000'000 km du soleil:\"\n",
    "1. Si l'utilisateur répond Mercure ou Vénus, on imprime \"Bonne réponse\", sinon, on imprime \"Mauvaise réponse\"."
   ]
  },
  {
   "cell_type": "code",
   "execution_count": 7,
   "metadata": {
    "slideshow": {
     "slide_type": "fragment"
    }
   },
   "outputs": [],
   "source": [
    "#Exercice à réaliser ici..."
   ]
  },
  {
   "cell_type": "markdown",
   "metadata": {
    "slideshow": {
     "slide_type": "slide"
    }
   },
   "source": [
    "### Exercice 14\n",
    "\n",
    "Il s'agit de déterminer si vous remplissez les conditions pour payer votre billet de train au demi-tarif : \n",
    "- Vous avez entre 6 et 16 ans : entre d'autres termes, votre age est supérieur ou égal à 6 ans et inférieur à 16 ans\n",
    "\n",
    "Dans un deuxième temps, ajoutez la condition supplémentaire suivante : \n",
    "- Vous possédez un abonnement demi-tarif.\n",
    "\n",
    "Idéalement, toutes les conditions devraient être réunies dans un seul test ```if```"
   ]
  },
  {
   "cell_type": "code",
   "execution_count": 14,
   "metadata": {
    "slideshow": {
     "slide_type": "subslide"
    }
   },
   "outputs": [
    {
     "name": "stdout",
     "output_type": "stream",
     "text": [
      "Quel est votre âge ? 35\n",
      "Possédez-vous un abonnement demi-tarif (oui/non) ? oui\n",
      "demi-tarif\n"
     ]
    }
   ],
   "source": [
    "#Exercice à réaliser ici..."
   ]
  },
  {
   "cell_type": "markdown",
   "metadata": {
    "slideshow": {
     "slide_type": "slide"
    }
   },
   "source": [
    "### Exercice 15\n",
    "\n",
    "Compléter la fonction dessiner_rectangle qui dessine un rectangle dont les deux côtés sont au minimum de 10 et le périmètre au maximum de 1000.\n",
    "\n",
    "Si l'utilisateur ne respecte pas les conditions données, un message doit l'en avertir. \n"
   ]
  },
  {
   "cell_type": "code",
   "execution_count": 40,
   "metadata": {
    "slideshow": {
     "slide_type": "subslide"
    }
   },
   "outputs": [
    {
     "data": {
      "application/vnd.jupyter.widget-view+json": {
       "model_id": "60a0dcbbe72846e88f7603659f857ae8",
       "version_major": 2,
       "version_minor": 0
      },
      "text/plain": [
       "Turtle()"
      ]
     },
     "metadata": {},
     "output_type": "display_data"
    }
   ],
   "source": [
    "from mobilechelonian import Turtle\n",
    "   \n",
    "def dessiner_rectangle(long, larg):\n",
    "    t = Turtle()\n",
    "    t.speed(5)\n",
    "    t.penup()\n",
    "    t.setposition(100,100)\n",
    "    t.pendown()\n",
    "    # les premières instructions placent la tortue. \n",
    "    \n",
    "    # A vous de compléter ici la fonction dessiner_rectangle\n",
    "    \n",
    "        \n",
    "dessiner_rectangle(10, 11)"
   ]
  },
  {
   "cell_type": "code",
   "execution_count": null,
   "metadata": {},
   "outputs": [],
   "source": []
  }
 ],
 "metadata": {
  "celltoolbar": "Diaporama",
  "kernelspec": {
   "display_name": "Python 3",
   "language": "python",
   "name": "python3"
  },
  "language_info": {
   "codemirror_mode": {
    "name": "ipython",
    "version": 3
   },
   "file_extension": ".py",
   "mimetype": "text/x-python",
   "name": "python",
   "nbconvert_exporter": "python",
   "pygments_lexer": "ipython3",
   "version": "3.7.4"
  }
 },
 "nbformat": 4,
 "nbformat_minor": 2
}
