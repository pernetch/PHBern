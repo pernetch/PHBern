{
 "cells": [
  {
   "cell_type": "markdown",
   "metadata": {
    "slideshow": {
     "slide_type": "slide"
    }
   },
   "source": [
    "# Les branchements conditionnels\n",
    "## Partie 1. Notions théoriques\n"
   ]
  },
  {
   "cell_type": "markdown",
   "metadata": {
    "slideshow": {
     "slide_type": "slide"
    }
   },
   "source": [
    "## A. Avant d'entrer dans le vif du sujet\n",
    "\n",
    "Nous avons vu jusqu'ici : \n",
    "1. des algorithmes séquenciels;\n",
    "1. des programmes exécutant des intructions \"du haut en bas\".\n"
   ]
  },
  {
   "cell_type": "markdown",
   "metadata": {
    "slideshow": {
     "slide_type": "slide"
    }
   },
   "source": [
    "### Un exemple d'algorithme séquentiel\n",
    "\n",
    "L'algorithme répond à la question suivante : quelle est la consommation moyenne d'une voiture (litres / 100 km). \n",
    "\n",
    "| Etape | Opération |\n",
    "|:-------|:-----------|\n",
    "|    1 | Récupérer les informations suivantes : consommation d'essence totale, km départ et km arrivée |\n",
    "|    2 | Définir la distance parcourue en effectuant l'opération suivant : km arrivée - km départ |\n",
    "|    3 | Calculer la consommation moyenne : 100 * distance parcourue / consommation d'essence totale |\n",
    "|    4 | Afficher dans la console la valeur obtenue à l'étape 3 |\n",
    "|    5 | Fin du programme |"
   ]
  },
  {
   "cell_type": "markdown",
   "metadata": {
    "slideshow": {
     "slide_type": "slide"
    }
   },
   "source": [
    "### Exercice\n",
    "Implémenter ci-dessous l'algorithme présenté sur la diapositive précédente."
   ]
  },
  {
   "cell_type": "code",
   "execution_count": 1,
   "metadata": {
    "slideshow": {
     "slide_type": "-"
    }
   },
   "outputs": [],
   "source": [
    "# Etape 1\n",
    "\n",
    "\n",
    "# Etape 2 \n",
    "\n",
    "\n",
    "# Etape 3\n",
    "\n",
    "\n",
    "#Etape 4 \n"
   ]
  },
  {
   "cell_type": "markdown",
   "metadata": {
    "slideshow": {
     "slide_type": "slide"
    }
   },
   "source": [
    "## B. La notion de branchement conditionnel\n",
    "\n",
    "Un branchement condionnel va permettre \n",
    "- de répondre oui/non à une question \n",
    "- et de sélectionner la prochaine instruction à exécuter sur la base de la réponse"
   ]
  },
  {
   "cell_type": "markdown",
   "metadata": {
    "slideshow": {
     "slide_type": "fragment"
    }
   },
   "source": [
    "On peut présenter le format général à l'aide de l'exemple suivant, en langage naturel : \n",
    "```\n",
    "1  Si ma moyenne éliminatoire est supérieure à 4.0 alors\n",
    "2     mon bulletin affichera promu (petite simplification...).\n",
    "3  Sinon\n",
    "4     mon bulletin affichera non-promu (vérité !)\n",
    "```"
   ]
  },
  {
   "cell_type": "markdown",
   "metadata": {
    "slideshow": {
     "slide_type": "notes"
    }
   },
   "source": [
    "La lecture de notre exemple doit se faire de la manière suivante : \n",
    "1. Evaluer si la condition posée est vraie / fausse\n",
    "2. Si la condition est vraie, exécuter la ligne 2 et sauter les lignes 3-4\n",
    "3. Si la condition est fausse, sauter à la ligne 4 directement\n",
    "4. Lorsque que l'évaluation du test est terminée, continuer l'exécution du programme !"
   ]
  },
  {
   "cell_type": "markdown",
   "metadata": {
    "slideshow": {
     "slide_type": "slide"
    }
   },
   "source": [
    "Pour représenter ces décisions et les multiples possibilités d’exécution, on peut recourir à des ordinogrammes (Flow chart en anglais).\n",
    "\n",
    "La nomenclature utilisée dans ces diagrammes est la suivante :\n",
    "- Les instructions à exécuter sont écrite dans des rectangles\n",
    "- Les conditions / tests sont écrits dans un losange.\n",
    "- Les flèches indiquent l’ordre d’exécution des instructions du programme.\n",
    "- Les branchements correspondent aux flèches sortant d'un losange. Les étiquettes sur ces flèches (oui/non, vrai/faux, True/False) indiquent à quel résultat du test ce chemin correspond. \n"
   ]
  },
  {
   "cell_type": "markdown",
   "metadata": {
    "slideshow": {
     "slide_type": "subslide"
    }
   },
   "source": [
    "Pour l’exemple ci-dessus, l’ordinogramme est le suivant:\n",
    "![alt-txt](https://raw.githubusercontent.com/pernetch/PHBern/main/flux1.jpg)"
   ]
  },
  {
   "cell_type": "code",
   "execution_count": null,
   "metadata": {},
   "outputs": [],
   "source": []
  }
 ],
 "metadata": {
  "celltoolbar": "Diaporama",
  "kernelspec": {
   "display_name": "Python 3",
   "language": "python",
   "name": "python3"
  },
  "language_info": {
   "codemirror_mode": {
    "name": "ipython",
    "version": 3
   },
   "file_extension": ".py",
   "mimetype": "text/x-python",
   "name": "python",
   "nbconvert_exporter": "python",
   "pygments_lexer": "ipython3",
   "version": "3.7.4"
  }
 },
 "nbformat": 4,
 "nbformat_minor": 2
}
