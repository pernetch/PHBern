{
 "cells": [
  {
   "cell_type": "markdown",
   "metadata": {
    "slideshow": {
     "slide_type": "slide"
    }
   },
   "source": [
    "# Voraussetzungen für die Sequenz :\n",
    "\n",
    "Die selben Informationen sind in der Unterrichtsvorbereitung zu lesen.\n",
    "\n",
    "Die Sequenz folgt im Großen und Ganzen der Methode \"Einfach Informatik\", die an unserer Schule von unserem Kollegen Cédric Donner ins Französische übersetzt wurde.\n",
    "\n",
    "Andere Referenzen : \n",
    "- Arnold Jarka, Cédric Donner, et alii, _Informatik, Programmieren und Robotik Grundlagen der Informatik für Schweizer Maturitätsschulen._ Klett verlag, 2021.\n",
    "- G. Michael Schneider, Judith L. Gersting, _Invitation to Computer Science, 8th edition,_ Cengage, 2019.\n",
    "\n",
    "Die Sequenz ist in den Juypter Notebooks mit der RISE-Erweiterung slideshow implementiert.\n",
    "\n",
    "- Installation der Jupyter Notebooks: https://jupyter.org/install\n",
    "- Installation / Konfiguration von RISE slideshow: https://rise.readthedocs.io/en/stable/installation.html\n",
    "\n",
    "Für die Sequenz sind jedoch die folgenden Änderungen zu beachten:\n",
    "\n",
    "- Es wird in dieser Sequenz davon ausgegangen, dass die Begriffe Variablen und Funktionen bekannt sind.\n",
    "- Die ```repeat``` Anweisung wird nicht verwendet. Stattdessen wird ```for i in range(x)``` verwendet.\n",
    "-    Durch die Verwendung von Jupyter Notebooks ist es nicht möglich, die Schildkröte von tygerjython zu verwenden. Sie kann durch die ```mobilechelonian``` Bibliothek ersetzt werden. Die Dokumentation ist unter folgender Adresse verfügbar: [mobilechelonian](https://github.com/takluyver/mobilechelonian)\n",
    "\n",
    "Die Installation erfolgt mit folgendem Befehl: ```pip install mobilechelonian```"
   ]
  },
  {
   "cell_type": "markdown",
   "metadata": {
    "slideshow": {
     "slide_type": "slide"
    }
   },
   "source": [
    "# mobilechelonian module"
   ]
  },
  {
   "cell_type": "code",
   "execution_count": null,
   "metadata": {
    "slideshow": {
     "slide_type": "fragment"
    }
   },
   "outputs": [],
   "source": [
    "pip install mobilechelonian #exécuter cette commande installe la bibliothèque"
   ]
  },
  {
   "cell_type": "code",
   "execution_count": 1,
   "metadata": {
    "slideshow": {
     "slide_type": "slide"
    }
   },
   "outputs": [
    {
     "data": {
      "application/vnd.jupyter.widget-view+json": {
       "model_id": "9cdcf6f29c66421d85b8486640a6afd4",
       "version_major": 2,
       "version_minor": 0
      },
      "text/plain": [
       "Turtle()"
      ]
     },
     "metadata": {},
     "output_type": "display_data"
    }
   ],
   "source": [
    "#Documentation (en anglais)\n",
    "from mobilechelonian import Turtle\n",
    "t = Turtle()\n",
    "\n",
    "# t.speed(N) will control the speed of the turtle when it moves (N from 1 - 10)\n",
    "t.speed(5)\n",
    "\n",
    "# t.penup() will \"raise the pen\" meaning the turtle won't draw lines anymore\n",
    "t.penup()\n",
    "\n",
    "# And this will \"lower the pen\" so the turtle draws when it moves\n",
    "t.pendown()\n",
    "\n",
    "# This changes the color of the turtle's path, if the pen is down\n",
    "t.pencolor(\"red\")  # try \"blue\", \"yellow\", \"brown\", \"black\", \"purple\", \"green\"\n",
    "\n",
    "# This will rotate the turtle counter-clockwise\n",
    "t.left(90)\n",
    "\n",
    "# And this rotates the turtle clockwise\n",
    "t.right(90)\n",
    "\n",
    "# This makes the turtle move forward\n",
    "t.forward(100)\n",
    "\n",
    "# Finally, this will bring the turtle back home (to the center)\n",
    "t.home()\n",
    "\n"
   ]
  },
  {
   "cell_type": "code",
   "execution_count": 2,
   "metadata": {
    "slideshow": {
     "slide_type": "slide"
    }
   },
   "outputs": [
    {
     "data": {
      "application/vnd.jupyter.widget-view+json": {
       "model_id": "8ebb378afc634e8ab570d11e8f71d37e",
       "version_major": 2,
       "version_minor": 0
      },
      "text/plain": [
       "Turtle()"
      ]
     },
     "metadata": {},
     "output_type": "display_data"
    }
   ],
   "source": [
    "#Example\n",
    "\n",
    "from mobilechelonian import Turtle\n",
    "t = Turtle()\n",
    "t.speed(10)\n",
    "colours=[\"red\",\"blue\",\"yellow\",\"brown\",\"black\",\"purple\",\"green\"]\n",
    "\n",
    "t.penup(); t.left(90); t.forward(200);t.right(90);t.pendown()\n",
    "for i in range (0,18):\n",
    "    t.pencolor(colours[i%7])\n",
    "    t.right(20)\n",
    "    t.forward(50)\n",
    "\n",
    "t.right(180)\n",
    "t.home()"
   ]
  },
  {
   "cell_type": "code",
   "execution_count": null,
   "metadata": {},
   "outputs": [],
   "source": []
  }
 ],
 "metadata": {
  "celltoolbar": "Diaporama",
  "kernelspec": {
   "display_name": "Python 3",
   "language": "python",
   "name": "python3"
  },
  "language_info": {
   "codemirror_mode": {
    "name": "ipython",
    "version": 3
   },
   "file_extension": ".py",
   "mimetype": "text/x-python",
   "name": "python",
   "nbconvert_exporter": "python",
   "pygments_lexer": "ipython3",
   "version": "3.7.4"
  }
 },
 "nbformat": 4,
 "nbformat_minor": 2
}
