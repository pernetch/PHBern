{
 "cells": [
  {
   "cell_type": "markdown",
   "metadata": {},
   "source": [
    "# Exemples de questions d'examen"
   ]
  },
  {
   "cell_type": "markdown",
   "metadata": {},
   "source": [
    "### Question d'examen\n",
    "\n",
    "**Première partie**\n",
    "\n",
    "On demande à l'utilisateur son sexe (M ou F) puis son nom via des boîtes de saisie (input).   \n",
    "En fonction de sa réponse afficher (dans la console) : \n",
    "- Bonjour Monsieur Dubois\n",
    "- Bonjour Madame Dujardin\n",
    "\n",
    "**Deuxième partie**\n",
    "- Veuillez dessiner l'ordinogramme correspondant à l'exercice de la première partie"
   ]
  },
  {
   "cell_type": "code",
   "execution_count": 2,
   "metadata": {},
   "outputs": [
    {
     "name": "stdout",
     "output_type": "stream",
     "text": [
      "Quel est votre sexe (M/F) ?M\n",
      "Quel est votre nom?Pernet\n",
      "Bonjour Monsieur Pernet\n"
     ]
    }
   ],
   "source": [
    "sexe = input(\"Quel est votre sexe (M/F) ? \")\n",
    "nom = input(\"Quel est votre nom ? \")\n",
    "\n",
    "if sexe == \"M\": \n",
    "    print(\"Bonjour Monsieur\", nom)\n",
    "if sexe == \"F\": \n",
    "    print(\"Bonjour Madame\", nom)"
   ]
  },
  {
   "cell_type": "code",
   "execution_count": null,
   "metadata": {},
   "outputs": [],
   "source": []
  },
  {
   "cell_type": "markdown",
   "metadata": {},
   "source": [
    "### Question d'examen\n",
    "\n",
    "Soient deux nombres non égaux a et b. Déterminez à l'aide d'une condition lequel est le plus grand et imprimez sa valeur en console. "
   ]
  },
  {
   "cell_type": "code",
   "execution_count": null,
   "metadata": {},
   "outputs": [],
   "source": [
    "a = 3\n",
    "b = 4\n",
    "if(a>b):\n",
    "    print(a)\n",
    "else:\n",
    "    print(b)"
   ]
  },
  {
   "cell_type": "markdown",
   "metadata": {},
   "source": [
    "### Question d'examen\n",
    "\n",
    "Problème : sur la base de la moyenne éliminatoire obtenue et des points de double compensation, indiquez si l'élève est promu ou non. \n",
    "\n",
    "Proposez deux solutions différentes à ce problème, en fonction des indications suivantes : \n",
    "1. si l'élève possède une moyenne éliminatoire inférieure à 4, il est non-promu. Sinon, si sa double compensation est négative, l'élève est non-promu. Il est promu dans le dernier cas. (si imbriqué). \n",
    "1. si l'élève possède une moyenne éliminatoire >= 4 **et** que sa double compensation est supérieure ou égale à zéro, l'élève est promu. Sinon, il n'est pas promu. \n",
    "\n"
   ]
  },
  {
   "cell_type": "code",
   "execution_count": 7,
   "metadata": {},
   "outputs": [
    {
     "name": "stdout",
     "output_type": "stream",
     "text": [
      "promu\n",
      "promu\n"
     ]
    }
   ],
   "source": [
    "moyenne = 4\n",
    "compensation = 2\n",
    "\n",
    "#version 1\n",
    "if moyenne < 4: \n",
    "    print(\"non-promu\")\n",
    "else: \n",
    "    if compensation < 0: \n",
    "        print(\"non-promu\")\n",
    "    else:\n",
    "        print(\"promu\")\n",
    "        \n",
    "#version 2        \n",
    "if moyenne >= 4 and compensation >= 0: \n",
    "    print(\"promu\")\n",
    "else:\n",
    "    print(\"non-promu\")"
   ]
  },
  {
   "cell_type": "markdown",
   "metadata": {},
   "source": [
    "### Question d'examen\n",
    "\n",
    "- Ecrivez un programme qui en fonction de l'âge de la personne indique le tarif à payer. \n",
    "- Attention à la conversion de type lors du input !\n",
    "- La phrase doit être par exemple : vous êtes un enfant et vous devez payer Fr. 12.00.\n",
    "\n",
    "|Tarif | Montant |\n",
    "|-----|------------|\n",
    "|Enfant (-16ans) | Fr. 12.00 |\n",
    "|Adulte | Fr. 30.00 |\n",
    "|Retraité (dès 60 ans) | Fr. 25.00 |\n"
   ]
  },
  {
   "cell_type": "code",
   "execution_count": 11,
   "metadata": {},
   "outputs": [
    {
     "name": "stdout",
     "output_type": "stream",
     "text": [
      "veuillez indiquer votre age61\n",
      "Vous êtes un retraité et vous devez payer Fr. 25.00.\n"
     ]
    }
   ],
   "source": [
    "age = int(input(\"veuillez indiquer votre age\"))\n",
    "\n",
    "if age < 16: \n",
    "    print(\"Vous êtes un enfant et vous devez payer Fr. 12.00.\")\n",
    "elif age <60:\n",
    "    print(\"Vous êtes un adulte et vous devez payer Fr. 30.00.\")\n",
    "else:\n",
    "    print(\"Vous êtes un retraité et vous devez payer Fr. 25.00.\")"
   ]
  },
  {
   "cell_type": "markdown",
   "metadata": {},
   "source": [
    "### Question d'examen\n",
    "\n",
    "Ecrivez la négation des conditions suivantes :\n",
    "\n",
    "```python\n",
    "if not x == 4:\n",
    "if x >= y:\n",
    "if note != 6: \n",
    "if montant < 0:\n",
    "```"
   ]
  },
  {
   "cell_type": "markdown",
   "metadata": {},
   "source": [
    "```python\n",
    "if x == 4\n",
    "if x < y\n",
    "if note == 6\n",
    "if montant >= 0\n",
    "```"
   ]
  },
  {
   "cell_type": "code",
   "execution_count": null,
   "metadata": {},
   "outputs": [],
   "source": []
  }
 ],
 "metadata": {
  "kernelspec": {
   "display_name": "Python 3",
   "language": "python",
   "name": "python3"
  },
  "language_info": {
   "codemirror_mode": {
    "name": "ipython",
    "version": 3
   },
   "file_extension": ".py",
   "mimetype": "text/x-python",
   "name": "python",
   "nbconvert_exporter": "python",
   "pygments_lexer": "ipython3",
   "version": "3.7.4"
  }
 },
 "nbformat": 4,
 "nbformat_minor": 2
}
